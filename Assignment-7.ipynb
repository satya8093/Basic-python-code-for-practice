{
 "cells": [
  {
   "cell_type": "markdown",
   "metadata": {},
   "source": [
    "###  Python program to find maximum between two numbers."
   ]
  },
  {
   "cell_type": "code",
   "execution_count": 13,
   "metadata": {},
   "outputs": [
    {
     "name": "stdout",
     "output_type": "stream",
     "text": [
      "Enter value of a and b...(example 3,5) 56,56\n",
      "both are equal\n"
     ]
    }
   ],
   "source": [
    "a,b=map(float,input(\"Enter value of a and b separated with comma...(example 3,5) \").split(\",\"))\n",
    "if a>b:\n",
    "    print(f\"a i.e {a} is greater than b i.e {b} \")\n",
    "elif b>a:\n",
    "    print(f\"b i.e {b} is greater than a i.e {a} \")\n",
    "else:\n",
    "    print(\"both  values are equal\")\n",
    "    "
   ]
  },
  {
   "cell_type": "markdown",
   "metadata": {},
   "source": [
    "### Python program to find maximum between three numbers"
   ]
  },
  {
   "cell_type": "code",
   "execution_count": 14,
   "metadata": {},
   "outputs": [
    {
     "name": "stdout",
     "output_type": "stream",
     "text": [
      "Enter value of a,b and c separated by commas (example->25,589,78)8,9,3\n",
      " 9.0 is greater...\n"
     ]
    }
   ],
   "source": [
    "a,b,c=map(float,input(\"Enter value of a,b and c separated by commas (example->25,589,78)\").split(\",\"))\n",
    "if a>b and a>c:\n",
    "    f=a\n",
    "elif b>a and b>c:\n",
    "    f=b\n",
    "else:\n",
    "    f=c\n",
    "print(f\" {f} is greater...\")"
   ]
  },
  {
   "cell_type": "markdown",
   "metadata": {},
   "source": [
    "### Python program to check whether a number is negative, positive or zero"
   ]
  },
  {
   "cell_type": "code",
   "execution_count": 17,
   "metadata": {},
   "outputs": [
    {
     "name": "stdout",
     "output_type": "stream",
     "text": [
      "Enter number0\n",
      "Number is neither negative nor positive,it is zero.\n"
     ]
    }
   ],
   "source": [
    "number=float(input(\"Enter number\"))\n",
    "if number>0:\n",
    "    print(\"It is a positive number\")\n",
    "elif number<0:\n",
    "    print(\"It is a negative number\")\n",
    "else:\n",
    "    print(\"Number is neither negative nor positive,it is zero.\")"
   ]
  },
  {
   "cell_type": "markdown",
   "metadata": {},
   "source": [
    "### Python program to check whether a number is divisible by 5 and 11 or not."
   ]
  },
  {
   "cell_type": "code",
   "execution_count": 18,
   "metadata": {},
   "outputs": [
    {
     "name": "stdout",
     "output_type": "stream",
     "text": [
      "Enter number to check if it is divisible by 5 and 11 or not.... 56\n",
      "No\n"
     ]
    }
   ],
   "source": [
    "number=float(input(\"Enter number to check if it is divisible by 5 and 11 or not.... \"))\n",
    "if number%5==0 and number%11==0:\n",
    "    print(\"yes\")\n",
    "else:\n",
    "    print(\"No\")\n",
    "    "
   ]
  },
  {
   "cell_type": "markdown",
   "metadata": {},
   "source": [
    "### Python program to check whether a number is even or odd."
   ]
  },
  {
   "cell_type": "code",
   "execution_count": 24,
   "metadata": {},
   "outputs": [
    {
     "name": "stdout",
     "output_type": "stream",
     "text": [
      "Enter  any number excluding 0.. -55\n",
      "Number is odd.\n"
     ]
    }
   ],
   "source": [
    "if int(input(\"Enter  any number excluding 0.. \"))%2:\n",
    "    print(\"Number is odd.\")\n",
    "else:\n",
    "    print(\"Number is even.\")"
   ]
  },
  {
   "cell_type": "markdown",
   "metadata": {},
   "source": [
    "### Python program to check whether a year is leap year or not."
   ]
  },
  {
   "cell_type": "code",
   "execution_count": 37,
   "metadata": {},
   "outputs": [
    {
     "name": "stdout",
     "output_type": "stream",
     "text": [
      "Enter year to check for leap year....1700\n"
     ]
    },
    {
     "data": {
      "text/plain": [
       "'No'"
      ]
     },
     "execution_count": 37,
     "metadata": {},
     "output_type": "execute_result"
    }
   ],
   "source": [
    "def check_for_leap_year(year):\n",
    "    if year%400:\n",
    "        return \"No\"\n",
    "    else:\n",
    "        return \"Yes\"\n",
    "\n",
    "\n",
    "\n",
    "\n",
    "\n",
    "year=int(input(\"Enter year to check for leap year....\"))\n",
    "check_for_leap_year(year)"
   ]
  },
  {
   "cell_type": "markdown",
   "metadata": {},
   "source": [
    "### Python program to check whether a character is alphabet or not."
   ]
  },
  {
   "cell_type": "code",
   "execution_count": 42,
   "metadata": {},
   "outputs": [
    {
     "name": "stdout",
     "output_type": "stream",
     "text": [
      "> A\n",
      "Yes, it is a  capital alphabet.\n"
     ]
    }
   ],
   "source": [
    "def check_for_alphabet(ch):\n",
    "    if ch>='A' and ch<='Z':\n",
    "        print(\"Yes, it is a  capital alphabet.\")\n",
    "    elif ch>='a' and ch<='z':\n",
    "        print(\"Yes,it is a smaller alphabet.\")\n",
    "    else:\n",
    "        print(\"No,given character is not a alphabets.\")\n",
    "\n",
    "\n",
    "\n",
    "\n",
    "ch=input(\"> \")\n",
    "check_for_alphabet(ch)"
   ]
  },
  {
   "cell_type": "markdown",
   "metadata": {},
   "source": [
    "### Python program to input any alphabet and check whether it is vowel or consonant."
   ]
  },
  {
   "cell_type": "code",
   "execution_count": 47,
   "metadata": {},
   "outputs": [
    {
     "name": "stdout",
     "output_type": "stream",
     "text": [
      "> c\n",
      "It is a consonant\n"
     ]
    }
   ],
   "source": [
    "def check_for_vowel(ch):\n",
    "    vowel=['a','e','i','o','u']\n",
    "    if ch in vowel:\n",
    "        print(\"Yes, it is a vowel.\")\n",
    "    else:\n",
    "        print(\"It is a consonant\")\n",
    "\n",
    "\n",
    "\n",
    "ch=input(\"> \")\n",
    "check_for_vowel(ch)"
   ]
  },
  {
   "cell_type": "markdown",
   "metadata": {},
   "source": [
    "### Python program to input any character and check whether it is alphabet, digit or special character."
   ]
  },
  {
   "cell_type": "code",
   "execution_count": 56,
   "metadata": {},
   "outputs": [
    {
     "name": "stdout",
     "output_type": "stream",
     "text": [
      ">     \n",
      "It is a special character.\n"
     ]
    }
   ],
   "source": [
    "def check(ch):\n",
    "    if ch>='A' and ch<='Z':\n",
    "        print(\"It is a  capital alphabet.\")\n",
    "    elif ch>='a' and ch<='z':\n",
    "        print(\"It is a smaller alphabet.\")\n",
    "    elif ch>='0' and ch<='9':\n",
    "        print(\"It is a digit.\")\n",
    "    else:\n",
    "        print(\"It is a special character.\")\n",
    "\n",
    "\n",
    "\n",
    "\n",
    "ch=input(\"> \").strip()\n",
    "check(ch)"
   ]
  },
  {
   "cell_type": "markdown",
   "metadata": {},
   "source": [
    "### Python program to check whether a character is uppercase or lowercase alphabet."
   ]
  },
  {
   "cell_type": "code",
   "execution_count": 62,
   "metadata": {},
   "outputs": [
    {
     "name": "stdout",
     "output_type": "stream",
     "text": [
      "     d     \n",
      "It is lowercase.\n"
     ]
    }
   ],
   "source": [
    "def check_for_upper_lower(ch):\n",
    "    if ch.islower():\n",
    "        print(\"It is lowercase.\")\n",
    "    else:\n",
    "        print(\"It is in uppercase.\")\n",
    "\n",
    "\n",
    "\n",
    "\n",
    "\n",
    "\n",
    "ch=input().strip()\n",
    "check_for_upper_lower(ch)"
   ]
  },
  {
   "cell_type": "markdown",
   "metadata": {},
   "source": [
    "### Python program to input week number and print week day."
   ]
  },
  {
   "cell_type": "code",
   "execution_count": 73,
   "metadata": {},
   "outputs": [
    {
     "name": "stdout",
     "output_type": "stream",
     "text": [
      "Enter week number.    5\n",
      "Friday\n"
     ]
    }
   ],
   "source": [
    "week={\n",
    "       1:\"Monday\",\n",
    "       2:\"Tuesday\",\n",
    "       3:\"Wednesday\",\n",
    "       4:\"Thursday\",\n",
    "       5:\"Friday\",\n",
    "       6:\"Suturday\",\n",
    "       7:\"Sunday\"\n",
    "}\n",
    "print(week.get(int(input(\"Enter week number.\"))))"
   ]
  },
  {
   "cell_type": "markdown",
   "metadata": {},
   "source": [
    "### Python program to input month number and print number of days in that month."
   ]
  },
  {
   "cell_type": "code",
   "execution_count": 75,
   "metadata": {},
   "outputs": [
    {
     "name": "stdout",
     "output_type": "stream",
     "text": [
      "Enter month no. 10\n",
      "31 Days\n"
     ]
    }
   ],
   "source": [
    "month={\n",
    "    1:\"31 Days\",\n",
    "    2:\"28 Days(29 in leap year)\",\n",
    "    3:\"31 Days\",\n",
    "    4:\"30 Days\",\n",
    "    5:\"31 Days\",\n",
    "    6:\"30 Days\",\n",
    "    7:\"31 Days\",\n",
    "    8:\"31 Days\",\n",
    "    9:\"30 Days\",\n",
    "    10:\"31 Days\",\n",
    "    11:\"30 Days\",\n",
    "    12:\"31 Days\"\n",
    "    \n",
    "}\n",
    "print(month.get(int(input(\"Enter month no. \"))))"
   ]
  },
  {
   "cell_type": "markdown",
   "metadata": {},
   "source": [
    "### Python program to count total number of notes in given amount."
   ]
  },
  {
   "cell_type": "code",
   "execution_count": 110,
   "metadata": {},
   "outputs": [
    {
     "name": "stdout",
     "output_type": "stream",
     "text": [
      "Enter a amount to find no of notes in that amount. > 4000\n",
      "2\n"
     ]
    }
   ],
   "source": [
    "def count_no_of_notes(amount):\n",
    "    note=[2000,500,200,100,50,20,10]\n",
    "    count=0\n",
    "    for i in note:\n",
    "        count+=int(amount/i)\n",
    "        amount=amount%i\n",
    "    return count\n",
    "\n",
    "\n",
    "\n",
    "\n",
    "amount=int(input(\"Enter a amount to find no of notes in that amount. > \"))\n",
    "print(count_no_of_notes(amount))"
   ]
  },
  {
   "cell_type": "markdown",
   "metadata": {},
   "source": [
    "### Python program to input angles of a triangle and check whether triangle is valid or not."
   ]
  },
  {
   "cell_type": "code",
   "execution_count": 114,
   "metadata": {},
   "outputs": [
    {
     "name": "stdout",
     "output_type": "stream",
     "text": [
      "Enter all 3 angles of triangle separated by comma.. 60,60,60\n",
      "Trianle is valid.\n"
     ]
    }
   ],
   "source": [
    "def check_triangle(sum):\n",
    "    if sum==180:\n",
    "        print(\"Trianle is valid.\")\n",
    "    else:\n",
    "        print(\"Triangle is invalid\")\n",
    "\n",
    "\n",
    "x,y,z=map(float,input(\"Enter all 3 angles of triangle separated by comma.. \").split(\",\"))\n",
    "check_triangle(x+y+z)"
   ]
  },
  {
   "cell_type": "markdown",
   "metadata": {},
   "source": [
    "### Python program to input all sides of a triangle and check whether triangle is valid or not."
   ]
  },
  {
   "cell_type": "code",
   "execution_count": 117,
   "metadata": {},
   "outputs": [
    {
     "name": "stdout",
     "output_type": "stream",
     "text": [
      "Enter all 3 sides of triangle separated by comma.. 5,9,8\n",
      "Triangle is valid having sides 5.0 9.0 8.0\n"
     ]
    }
   ],
   "source": [
    "def check_triangle(x,y,z):\n",
    "    if x+y>z:\n",
    "        if y+z>x:\n",
    "            if z+x>y:\n",
    "                print(\"Triangle is valid having sides\",x,y,z)\n",
    "    else:\n",
    "        print(\"Trianle is invalis\")\n",
    "\n",
    "\n",
    "\n",
    "\n",
    "x,y,z=map(float,input(\"Enter all 3 sides of triangle separated by comma.. \").split(\",\"))\n",
    "check_triangle(x,y,z)"
   ]
  },
  {
   "cell_type": "markdown",
   "metadata": {},
   "source": [
    "### Python program to check whether the triangle is equilateral, isosceles or scalene triangle."
   ]
  },
  {
   "cell_type": "code",
   "execution_count": 123,
   "metadata": {},
   "outputs": [
    {
     "name": "stdout",
     "output_type": "stream",
     "text": [
      "Enter all 3 sides of triangle separated by comma.. 5,5,5\n",
      "scalen\n"
     ]
    }
   ],
   "source": [
    "def check_triangle(a,b,c):\n",
    "    if a==b==c:\n",
    "        print(\"Triangle is eqilateral.\")\n",
    "    elif a == b or a == c or b == c:\n",
    "        print(\"Triangle is isosceles.\")\n",
    "    elif a!=b:\n",
    "        if a!=c:\n",
    "            if b!=c:\n",
    "                print(\"scalen\")\n",
    "\n",
    "\n",
    "x,y,z=map(float,input(\"Enter all 3 sides of triangle separated by comma.. \").split(\",\"))\n",
    "check_triangle(a,b,c)"
   ]
  },
  {
   "cell_type": "markdown",
   "metadata": {},
   "source": [
    "### Write a Python Program to input electricity unit charges and calculate total electricity bill according to the given condition: \n",
    "* For first 50 units Rs. 0.50/unit\n",
    "* For next 100 units Rs. 0.75/unit\n",
    "* For next 100 units Rs. 1.20/unit\n",
    "* For unit above 250 Rs. 1.50/unit\n",
    "* An additional surcharge of 20% is added to the bill\n",
    "\n"
   ]
  },
  {
   "cell_type": "code",
   "execution_count": null,
   "metadata": {},
   "outputs": [],
   "source": [
    "def calculate_charge(unit):\n",
    "    charge=0\n",
    "        \n",
    "        \n",
    "        \n",
    "\n",
    "\n",
    "\n",
    "unit=int(input())\n",
    "print(calculate_charge(unit))"
   ]
  }
 ],
 "metadata": {
  "kernelspec": {
   "display_name": "Python 3",
   "language": "python",
   "name": "python3"
  },
  "language_info": {
   "codemirror_mode": {
    "name": "ipython",
    "version": 3
   },
   "file_extension": ".py",
   "mimetype": "text/x-python",
   "name": "python",
   "nbconvert_exporter": "python",
   "pygments_lexer": "ipython3",
   "version": "3.6.5"
  }
 },
 "nbformat": 4,
 "nbformat_minor": 2
}
